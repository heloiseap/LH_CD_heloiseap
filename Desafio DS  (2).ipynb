{
 "cells": [
  {
   "cell_type": "markdown",
   "id": "bc5e92fa",
   "metadata": {},
   "source": [
    "<h3>1 - Introdução e considerações iniciais:</h3>\n",
    "<p>\n",
    "A empresa contratante pede uma análise de que tipo de filme deve ser desenvolvido. Pode-se realizar essa análise de diversas formas, estando em consideração também a variável que quer ser otimizada. \n",
    "\n",
    "Um ângulo de análise é ver que fatores contribuem para uma nota maior no site IMBD ou no Metascore, porém, como se trata de um estúdio de Hollywood, irá se partir do princípio que a variável que deseja ser otimizada é o faturamento. \n",
    "\n",
    "Para definir o que seria o tipo de um filme, vale fazer um exercício de pensamento: como uma pessoa é induzida a ver um filme? Intuitivamente, vem à mente o gênero, diretor, atores e a sinopse (overview) desse filme. É possível analisar quais nomes são relacionados a um faturamento maior e quais temas são favorecidos.   \n",
    "\n",
    "Também pode ser interessante explorar a relação entre a classificação indicativa (certificate), duração do filme (runtime) e até a escolha de título.\n",
    "\n",
    "Dito isso, para a previsão do tipo de filme mais rentável, não podemos utilizar a nota em consideração, pois violaria o princípio de causalidade. \n",
    "\n",
    "Para poder responder todas as questões propostas, é preciso a análise das notas do IMDB. Similar ao caso anterior, vamos analisar os mesmos fatores. Porém, para uma análise mais completa, também deve-se levar em consideração o ano de lançamento, o número de votos, a nota do Metascore e o faturamento.  \n",
    "</p>"
   ]
  },
  {
   "cell_type": "markdown",
   "id": "21d775a7",
   "metadata": {},
   "source": [
    "<h3>Análise e tratamento dos dados</h3>\n",
    "<p>\n",
    "O primeiro passo a ser tomado é entender que tipos de dados estão presentes, para então ajustar os campos necessários.  \n",
    "</p>\n"
   ]
  },
  {
   "cell_type": "code",
   "execution_count": 1,
   "id": "cfb5842d",
   "metadata": {},
   "outputs": [],
   "source": [
    "import numpy as np \n",
    "import pandas as pd\n",
    "import seaborn as sns\n",
    "import matplotlib\n",
    "import matplotlib.pyplot as plt\n",
    "import statsmodels.api as sm"
   ]
  },
  {
   "cell_type": "code",
   "execution_count": 41,
   "id": "aa02164c",
   "metadata": {},
   "outputs": [
    {
     "data": {
      "text/plain": [
       "'0.14.0'"
      ]
     },
     "execution_count": 41,
     "metadata": {},
     "output_type": "execute_result"
    }
   ],
   "source": [
    "sm.__version__"
   ]
  },
  {
   "cell_type": "code",
   "execution_count": 2,
   "id": "ec647b19",
   "metadata": {},
   "outputs": [],
   "source": [
    "df = pd.read_csv('desafio_indicium_imdb.csv')"
   ]
  },
  {
   "cell_type": "code",
   "execution_count": 3,
   "id": "fdb05e12",
   "metadata": {
    "scrolled": false
   },
   "outputs": [
    {
     "name": "stdout",
     "output_type": "stream",
     "text": [
      "<class 'pandas.core.frame.DataFrame'>\n",
      "RangeIndex: 999 entries, 0 to 998\n",
      "Data columns (total 16 columns):\n",
      " #   Column         Non-Null Count  Dtype  \n",
      "---  ------         --------------  -----  \n",
      " 0   Unnamed: 0     999 non-null    int64  \n",
      " 1   Series_Title   999 non-null    object \n",
      " 2   Released_Year  999 non-null    object \n",
      " 3   Certificate    898 non-null    object \n",
      " 4   Runtime        999 non-null    object \n",
      " 5   Genre          999 non-null    object \n",
      " 6   IMDB_Rating    999 non-null    float64\n",
      " 7   Overview       999 non-null    object \n",
      " 8   Meta_score     842 non-null    float64\n",
      " 9   Director       999 non-null    object \n",
      " 10  Star1          999 non-null    object \n",
      " 11  Star2          999 non-null    object \n",
      " 12  Star3          999 non-null    object \n",
      " 13  Star4          999 non-null    object \n",
      " 14  No_of_Votes    999 non-null    int64  \n",
      " 15  Gross          830 non-null    object \n",
      "dtypes: float64(2), int64(2), object(12)\n",
      "memory usage: 125.0+ KB\n",
      "None\n"
     ]
    }
   ],
   "source": [
    "print(df.info())"
   ]
  },
  {
   "cell_type": "markdown",
   "id": "79e293de",
   "metadata": {},
   "source": [
    "<h4> Tratamento: Juntar os atores em uma única coluna </h4>"
   ]
  },
  {
   "cell_type": "code",
   "execution_count": 4,
   "id": "7afc1506",
   "metadata": {},
   "outputs": [
    {
     "data": {
      "text/plain": [
       "Index(['Unnamed: 0', 'Series_Title', 'Released_Year', 'Certificate', 'Runtime',\n",
       "       'Genre', 'IMDB_Rating', 'Overview', 'Meta_score', 'Director',\n",
       "       'No_of_Votes', 'Gross', 'Stars'],\n",
       "      dtype='object')"
      ]
     },
     "execution_count": 4,
     "metadata": {},
     "output_type": "execute_result"
    }
   ],
   "source": [
    "df['Stars'] = df[df.columns[10:14]].apply(\n",
    "    lambda x: ','.join(x.dropna().astype(str)),\n",
    "    axis=1\n",
    ")\n",
    "df = df.drop([\"Star1\",\"Star2\",\"Star3\",\"Star4\"], axis=1)\n",
    "df.columns"
   ]
  },
  {
   "cell_type": "markdown",
   "id": "059db298",
   "metadata": {},
   "source": [
    "<h4>Tratamento de dados da coluna \"Gross\": tipo de string para float</h4>"
   ]
  },
  {
   "cell_type": "code",
   "execution_count": 5,
   "id": "7644c22d",
   "metadata": {},
   "outputs": [],
   "source": [
    "df['Gross'] = df['Gross'].str.replace(',', '').astype(float)\n"
   ]
  },
  {
   "cell_type": "markdown",
   "id": "24de3364",
   "metadata": {},
   "source": [
    "<h4>Tratamento de dados da coluna \"Gross\": Trocar valores vazios pela média</h4>\n"
   ]
  },
  {
   "cell_type": "code",
   "execution_count": 6,
   "id": "b00c0f50",
   "metadata": {},
   "outputs": [],
   "source": [
    "gross_mean = df['Gross'].mean()\n",
    "df['Gross'] = df['Gross'].transform(lambda x: x.fillna(gross_mean))"
   ]
  },
  {
   "cell_type": "markdown",
   "id": "943d9b1b",
   "metadata": {},
   "source": [
    "<h4>Tratamento dos dados coluna \"Runtime\": tipo de string para float</h4>"
   ]
  },
  {
   "cell_type": "code",
   "execution_count": 7,
   "id": "984b9e96",
   "metadata": {},
   "outputs": [],
   "source": [
    "df['Runtime'] = df['Runtime'].str.replace(' min', '').astype(float)"
   ]
  },
  {
   "cell_type": "markdown",
   "id": "8720625d",
   "metadata": {},
   "source": [
    "<h4>Tratamento dos dados coluna \"Released_Year\": correção do ano no filme \"Apollo 13\"</h4>"
   ]
  },
  {
   "cell_type": "code",
   "execution_count": 8,
   "id": "99349b73",
   "metadata": {},
   "outputs": [],
   "source": [
    "df.loc[df['Series_Title'] == 'Apollo 13', 'Released_Year'] = 1995\n"
   ]
  },
  {
   "cell_type": "markdown",
   "id": "c6376081",
   "metadata": {},
   "source": [
    "<h4>Tratamento dos dados coluna \"Released_Year\": tipo de string para float</h4>"
   ]
  },
  {
   "cell_type": "code",
   "execution_count": 9,
   "id": "19d08289",
   "metadata": {},
   "outputs": [],
   "source": [
    "df['Released_Year'] = df['Released_Year'].astype(float)"
   ]
  },
  {
   "cell_type": "code",
   "execution_count": 10,
   "id": "72bd3e67",
   "metadata": {
    "scrolled": true
   },
   "outputs": [
    {
     "name": "stdout",
     "output_type": "stream",
     "text": [
      "<class 'pandas.core.frame.DataFrame'>\n",
      "RangeIndex: 999 entries, 0 to 998\n",
      "Data columns (total 13 columns):\n",
      " #   Column         Non-Null Count  Dtype  \n",
      "---  ------         --------------  -----  \n",
      " 0   Unnamed: 0     999 non-null    int64  \n",
      " 1   Series_Title   999 non-null    object \n",
      " 2   Released_Year  999 non-null    float64\n",
      " 3   Certificate    898 non-null    object \n",
      " 4   Runtime        999 non-null    float64\n",
      " 5   Genre          999 non-null    object \n",
      " 6   IMDB_Rating    999 non-null    float64\n",
      " 7   Overview       999 non-null    object \n",
      " 8   Meta_score     842 non-null    float64\n",
      " 9   Director       999 non-null    object \n",
      " 10  No_of_Votes    999 non-null    int64  \n",
      " 11  Gross          999 non-null    float64\n",
      " 12  Stars          999 non-null    object \n",
      "dtypes: float64(5), int64(2), object(6)\n",
      "memory usage: 101.6+ KB\n"
     ]
    }
   ],
   "source": [
    "df.info()"
   ]
  },
  {
   "cell_type": "markdown",
   "id": "6ac93866",
   "metadata": {},
   "source": [
    "<h3>EDA: Gross</h3>"
   ]
  },
  {
   "cell_type": "markdown",
   "id": "fb97f633",
   "metadata": {},
   "source": [
    "<h4>Média de rendimento de acordo com o gênero</h4>"
   ]
  },
  {
   "cell_type": "code",
   "execution_count": 11,
   "id": "0e44f3b8",
   "metadata": {},
   "outputs": [
    {
     "data": {
      "text/html": [
       "<div>\n",
       "<style scoped>\n",
       "    .dataframe tbody tr th:only-of-type {\n",
       "        vertical-align: middle;\n",
       "    }\n",
       "\n",
       "    .dataframe tbody tr th {\n",
       "        vertical-align: top;\n",
       "    }\n",
       "\n",
       "    .dataframe thead th {\n",
       "        text-align: right;\n",
       "    }\n",
       "</style>\n",
       "<table border=\"1\" class=\"dataframe\">\n",
       "  <thead>\n",
       "    <tr style=\"text-align: right;\">\n",
       "      <th></th>\n",
       "      <th>Genre</th>\n",
       "      <th>Gross</th>\n",
       "    </tr>\n",
       "  </thead>\n",
       "  <tbody>\n",
       "    <tr>\n",
       "      <th>1</th>\n",
       "      <td>Adventure</td>\n",
       "      <td>1.527779e+08</td>\n",
       "    </tr>\n",
       "    <tr>\n",
       "      <th>16</th>\n",
       "      <td>Sci-Fi</td>\n",
       "      <td>1.408672e+08</td>\n",
       "    </tr>\n",
       "    <tr>\n",
       "      <th>0</th>\n",
       "      <td>Action</td>\n",
       "      <td>1.284659e+08</td>\n",
       "    </tr>\n",
       "    <tr>\n",
       "      <th>2</th>\n",
       "      <td>Animation</td>\n",
       "      <td>1.170130e+08</td>\n",
       "    </tr>\n",
       "    <tr>\n",
       "      <th>8</th>\n",
       "      <td>Fantasy</td>\n",
       "      <td>1.024753e+08</td>\n",
       "    </tr>\n",
       "    <tr>\n",
       "      <th>7</th>\n",
       "      <td>Family</td>\n",
       "      <td>8.938265e+07</td>\n",
       "    </tr>\n",
       "    <tr>\n",
       "      <th>4</th>\n",
       "      <td>Comedy</td>\n",
       "      <td>6.483863e+07</td>\n",
       "    </tr>\n",
       "    <tr>\n",
       "      <th>18</th>\n",
       "      <td>Thriller</td>\n",
       "      <td>6.053035e+07</td>\n",
       "    </tr>\n",
       "    <tr>\n",
       "      <th>10</th>\n",
       "      <td>History</td>\n",
       "      <td>5.845131e+07</td>\n",
       "    </tr>\n",
       "    <tr>\n",
       "      <th>3</th>\n",
       "      <td>Biography</td>\n",
       "      <td>5.678579e+07</td>\n",
       "    </tr>\n",
       "    <tr>\n",
       "      <th>20</th>\n",
       "      <td>Western</td>\n",
       "      <td>5.643159e+07</td>\n",
       "    </tr>\n",
       "    <tr>\n",
       "      <th>17</th>\n",
       "      <td>Sport</td>\n",
       "      <td>5.367202e+07</td>\n",
       "    </tr>\n",
       "    <tr>\n",
       "      <th>6</th>\n",
       "      <td>Drama</td>\n",
       "      <td>4.995265e+07</td>\n",
       "    </tr>\n",
       "    <tr>\n",
       "      <th>11</th>\n",
       "      <td>Horror</td>\n",
       "      <td>4.877743e+07</td>\n",
       "    </tr>\n",
       "    <tr>\n",
       "      <th>19</th>\n",
       "      <td>War</td>\n",
       "      <td>4.631476e+07</td>\n",
       "    </tr>\n",
       "    <tr>\n",
       "      <th>5</th>\n",
       "      <td>Crime</td>\n",
       "      <td>4.566240e+07</td>\n",
       "    </tr>\n",
       "    <tr>\n",
       "      <th>14</th>\n",
       "      <td>Mystery</td>\n",
       "      <td>4.533623e+07</td>\n",
       "    </tr>\n",
       "    <tr>\n",
       "      <th>15</th>\n",
       "      <td>Romance</td>\n",
       "      <td>4.435106e+07</td>\n",
       "    </tr>\n",
       "    <tr>\n",
       "      <th>12</th>\n",
       "      <td>Music</td>\n",
       "      <td>3.492900e+07</td>\n",
       "    </tr>\n",
       "    <tr>\n",
       "      <th>9</th>\n",
       "      <td>Film-Noir</td>\n",
       "      <td>3.148702e+07</td>\n",
       "    </tr>\n",
       "    <tr>\n",
       "      <th>13</th>\n",
       "      <td>Musical</td>\n",
       "      <td>2.864931e+07</td>\n",
       "    </tr>\n",
       "  </tbody>\n",
       "</table>\n",
       "</div>"
      ],
      "text/plain": [
       "        Genre         Gross\n",
       "1   Adventure  1.527779e+08\n",
       "16     Sci-Fi  1.408672e+08\n",
       "0      Action  1.284659e+08\n",
       "2   Animation  1.170130e+08\n",
       "8     Fantasy  1.024753e+08\n",
       "7      Family  8.938265e+07\n",
       "4      Comedy  6.483863e+07\n",
       "18   Thriller  6.053035e+07\n",
       "10    History  5.845131e+07\n",
       "3   Biography  5.678579e+07\n",
       "20    Western  5.643159e+07\n",
       "17      Sport  5.367202e+07\n",
       "6       Drama  4.995265e+07\n",
       "11     Horror  4.877743e+07\n",
       "19        War  4.631476e+07\n",
       "5       Crime  4.566240e+07\n",
       "14    Mystery  4.533623e+07\n",
       "15    Romance  4.435106e+07\n",
       "12      Music  3.492900e+07\n",
       "9   Film-Noir  3.148702e+07\n",
       "13    Musical  2.864931e+07"
      ]
     },
     "execution_count": 11,
     "metadata": {},
     "output_type": "execute_result"
    }
   ],
   "source": [
    "df['Genre'] = df['Genre'].str.split(\", \")\n",
    "df_exploded = df.explode(\"Genre\")\n",
    "grouped_df = df_exploded.groupby('Genre')['Gross'].mean().reset_index()\n",
    "grouped_df.sort_values(by=\"Gross\", ascending=False)"
   ]
  },
  {
   "cell_type": "code",
   "execution_count": 12,
   "id": "f11b4970",
   "metadata": {
    "scrolled": true
   },
   "outputs": [
    {
     "data": {
      "text/plain": [
       "(array([ 0,  1,  2,  3,  4,  5,  6,  7,  8,  9, 10, 11, 12, 13, 14, 15, 16,\n",
       "        17, 18, 19, 20]),\n",
       " [Text(0, 0, 'Action'),\n",
       "  Text(1, 0, 'Adventure'),\n",
       "  Text(2, 0, 'Animation'),\n",
       "  Text(3, 0, 'Biography'),\n",
       "  Text(4, 0, 'Comedy'),\n",
       "  Text(5, 0, 'Crime'),\n",
       "  Text(6, 0, 'Drama'),\n",
       "  Text(7, 0, 'Family'),\n",
       "  Text(8, 0, 'Fantasy'),\n",
       "  Text(9, 0, 'Film-Noir'),\n",
       "  Text(10, 0, 'History'),\n",
       "  Text(11, 0, 'Horror'),\n",
       "  Text(12, 0, 'Music'),\n",
       "  Text(13, 0, 'Musical'),\n",
       "  Text(14, 0, 'Mystery'),\n",
       "  Text(15, 0, 'Romance'),\n",
       "  Text(16, 0, 'Sci-Fi'),\n",
       "  Text(17, 0, 'Sport'),\n",
       "  Text(18, 0, 'Thriller'),\n",
       "  Text(19, 0, 'War'),\n",
       "  Text(20, 0, 'Western')])"
      ]
     },
     "execution_count": 12,
     "metadata": {},
     "output_type": "execute_result"
    },
    {
     "data": {
      "image/png": "[encoded data removed]",
      "text/plain": [
       "<Figure size 640x480 with 1 Axes>"
      ]
     },
     "metadata": {},
     "output_type": "display_data"
    }
   ],
   "source": [
    "sns.barplot(data=grouped_df, x='Genre', y='Gross')\n",
    "plt.xticks(rotation=90)"
   ]
  },
  {
   "cell_type": "markdown",
   "id": "02dfdda3",
   "metadata": {},
   "source": [
    "Os generos com maior rendimento são de Aventura, Ficção cientifica e Ação"
   ]
  },
  {
   "cell_type": "markdown",
   "id": "e6e43ae4",
   "metadata": {},
   "source": [
    "<h4>Média de rendimento de acordo com o diretor</h4>\n"
   ]
  },
  {
   "cell_type": "code",
   "execution_count": 13,
   "id": "fd919227",
   "metadata": {},
   "outputs": [
    {
     "data": {
      "text/html": [
       "<div>\n",
       "<style scoped>\n",
       "    .dataframe tbody tr th:only-of-type {\n",
       "        vertical-align: middle;\n",
       "    }\n",
       "\n",
       "    .dataframe tbody tr th {\n",
       "        vertical-align: top;\n",
       "    }\n",
       "\n",
       "    .dataframe thead th {\n",
       "        text-align: right;\n",
       "    }\n",
       "</style>\n",
       "<table border=\"1\" class=\"dataframe\">\n",
       "  <thead>\n",
       "    <tr style=\"text-align: right;\">\n",
       "      <th></th>\n",
       "      <th>Director</th>\n",
       "      <th>Gross</th>\n",
       "    </tr>\n",
       "  </thead>\n",
       "  <tbody>\n",
       "    <tr>\n",
       "      <th>36</th>\n",
       "      <td>Anthony Russo</td>\n",
       "      <td>5.512599e+08</td>\n",
       "    </tr>\n",
       "    <tr>\n",
       "      <th>148</th>\n",
       "      <td>Gareth Edwards</td>\n",
       "      <td>5.321773e+08</td>\n",
       "    </tr>\n",
       "    <tr>\n",
       "      <th>195</th>\n",
       "      <td>J.J. Abrams</td>\n",
       "      <td>4.743903e+08</td>\n",
       "    </tr>\n",
       "    <tr>\n",
       "      <th>261</th>\n",
       "      <td>Josh Cooley</td>\n",
       "      <td>4.340380e+08</td>\n",
       "    </tr>\n",
       "    <tr>\n",
       "      <th>428</th>\n",
       "      <td>Roger Allers</td>\n",
       "      <td>4.227838e+08</td>\n",
       "    </tr>\n",
       "  </tbody>\n",
       "</table>\n",
       "</div>"
      ],
      "text/plain": [
       "           Director         Gross\n",
       "36    Anthony Russo  5.512599e+08\n",
       "148  Gareth Edwards  5.321773e+08\n",
       "195     J.J. Abrams  4.743903e+08\n",
       "261     Josh Cooley  4.340380e+08\n",
       "428    Roger Allers  4.227838e+08"
      ]
     },
     "execution_count": 13,
     "metadata": {},
     "output_type": "execute_result"
    }
   ],
   "source": [
    "grouped_df = df.groupby('Director')['Gross'].mean().reset_index()\n",
    "grouped_df.sort_values(by=\"Gross\", ascending=False).head()"
   ]
  },
  {
   "cell_type": "markdown",
   "id": "974855bc",
   "metadata": {},
   "source": [
    "<h4>Média de rendimento de acordo com os atores</h4>\n"
   ]
  },
  {
   "cell_type": "code",
   "execution_count": 14,
   "id": "659e2fee",
   "metadata": {
    "scrolled": true
   },
   "outputs": [
    {
     "data": {
      "text/html": [
       "<div>\n",
       "<style scoped>\n",
       "    .dataframe tbody tr th:only-of-type {\n",
       "        vertical-align: middle;\n",
       "    }\n",
       "\n",
       "    .dataframe tbody tr th {\n",
       "        vertical-align: top;\n",
       "    }\n",
       "\n",
       "    .dataframe thead th {\n",
       "        text-align: right;\n",
       "    }\n",
       "</style>\n",
       "<table border=\"1\" class=\"dataframe\">\n",
       "  <thead>\n",
       "    <tr style=\"text-align: right;\">\n",
       "      <th></th>\n",
       "      <th>Stars</th>\n",
       "      <th>Gross</th>\n",
       "    </tr>\n",
       "  </thead>\n",
       "  <tbody>\n",
       "    <tr>\n",
       "      <th>1214</th>\n",
       "      <td>John Boyega</td>\n",
       "      <td>936662225.0</td>\n",
       "    </tr>\n",
       "    <tr>\n",
       "      <th>494</th>\n",
       "      <td>Daisy Ridley</td>\n",
       "      <td>936662225.0</td>\n",
       "    </tr>\n",
       "    <tr>\n",
       "      <th>1781</th>\n",
       "      <td>Michelle Rodriguez</td>\n",
       "      <td>760507625.0</td>\n",
       "    </tr>\n",
       "    <tr>\n",
       "      <th>270</th>\n",
       "      <td>Billy Zane</td>\n",
       "      <td>659325379.0</td>\n",
       "    </tr>\n",
       "    <tr>\n",
       "      <th>970</th>\n",
       "      <td>Huck Milner</td>\n",
       "      <td>608581744.0</td>\n",
       "    </tr>\n",
       "  </tbody>\n",
       "</table>\n",
       "</div>"
      ],
      "text/plain": [
       "                   Stars        Gross\n",
       "1214         John Boyega  936662225.0\n",
       "494         Daisy Ridley  936662225.0\n",
       "1781  Michelle Rodriguez  760507625.0\n",
       "270           Billy Zane  659325379.0\n",
       "970          Huck Milner  608581744.0"
      ]
     },
     "execution_count": 14,
     "metadata": {},
     "output_type": "execute_result"
    }
   ],
   "source": [
    "df['Stars'] = df['Stars'].astype(str).str.split(\",\")\n",
    "df_exploded = df.explode(\"Stars\")\n",
    "grouped_df = df_exploded.groupby('Stars')['Gross'].mean().reset_index()\n",
    "grouped_df.sort_values(by=\"Gross\", ascending=False).head()"
   ]
  },
  {
   "cell_type": "markdown",
   "id": "3eb1cc52",
   "metadata": {},
   "source": [
    "Os atores que tem a maior média de rendimento, John Boyega e Daisy Ridley, são estrelas dos filmes recentes de Star Wars e tem uma filmografia relativamente pequena fora disso. Assim, podem ser considerados como \"pontos fora da curva\""
   ]
  },
  {
   "cell_type": "code",
   "execution_count": 15,
   "id": "1a6cb117",
   "metadata": {},
   "outputs": [
    {
     "data": {
      "text/html": [
       "<div>\n",
       "<style scoped>\n",
       "    .dataframe tbody tr th:only-of-type {\n",
       "        vertical-align: middle;\n",
       "    }\n",
       "\n",
       "    .dataframe tbody tr th {\n",
       "        vertical-align: top;\n",
       "    }\n",
       "\n",
       "    .dataframe thead th {\n",
       "        text-align: right;\n",
       "    }\n",
       "</style>\n",
       "<table border=\"1\" class=\"dataframe\">\n",
       "  <thead>\n",
       "    <tr style=\"text-align: right;\">\n",
       "      <th></th>\n",
       "      <th>Stars</th>\n",
       "      <th>Gross</th>\n",
       "    </tr>\n",
       "  </thead>\n",
       "  <tbody>\n",
       "    <tr>\n",
       "      <th>1781</th>\n",
       "      <td>Michelle Rodriguez</td>\n",
       "      <td>7.605076e+08</td>\n",
       "    </tr>\n",
       "    <tr>\n",
       "      <th>270</th>\n",
       "      <td>Billy Zane</td>\n",
       "      <td>6.593254e+08</td>\n",
       "    </tr>\n",
       "    <tr>\n",
       "      <th>2272</th>\n",
       "      <td>Sarah Vowell</td>\n",
       "      <td>6.085817e+08</td>\n",
       "    </tr>\n",
       "    <tr>\n",
       "      <th>970</th>\n",
       "      <td>Huck Milner</td>\n",
       "      <td>6.085817e+08</td>\n",
       "    </tr>\n",
       "    <tr>\n",
       "      <th>1204</th>\n",
       "      <td>Joe Russo</td>\n",
       "      <td>5.512599e+08</td>\n",
       "    </tr>\n",
       "  </tbody>\n",
       "</table>\n",
       "</div>"
      ],
      "text/plain": [
       "                   Stars         Gross\n",
       "1781  Michelle Rodriguez  7.605076e+08\n",
       "270           Billy Zane  6.593254e+08\n",
       "2272        Sarah Vowell  6.085817e+08\n",
       "970          Huck Milner  6.085817e+08\n",
       "1204           Joe Russo  5.512599e+08"
      ]
     },
     "execution_count": 15,
     "metadata": {},
     "output_type": "execute_result"
    }
   ],
   "source": [
    "grouped_df.drop(grouped_df[grouped_df['Stars'] == 'John Boyega'].index, inplace=True)\n",
    "grouped_df.drop(grouped_df[grouped_df['Stars'] == 'Daisy Ridley'].index, inplace=True)\n",
    "grouped_df.sort_values(by=\"Gross\", ascending=False).head()"
   ]
  },
  {
   "cell_type": "markdown",
   "id": "5c99c3d5",
   "metadata": {},
   "source": [
    "<h4>Média de rendimento de acordo com a duração</h4>\n"
   ]
  },
  {
   "cell_type": "code",
   "execution_count": 16,
   "id": "b99dba3d",
   "metadata": {},
   "outputs": [
    {
     "name": "stdout",
     "output_type": "stream",
     "text": [
      "                            OLS Regression Results                            \n",
      "==============================================================================\n",
      "Dep. Variable:                  Gross   R-squared:                       0.016\n",
      "Model:                            OLS   Adj. R-squared:                  0.015\n",
      "Method:                 Least Squares   F-statistic:                     15.80\n",
      "Date:                Thu, 04 Jul 2024   Prob (F-statistic):           7.53e-05\n",
      "Time:                        21:31:54   Log-Likelihood:                -19812.\n",
      "No. Observations:                 999   AIC:                         3.963e+04\n",
      "Df Residuals:                     997   BIC:                         3.964e+04\n",
      "Df Model:                           1                                         \n",
      "Covariance Type:            nonrobust                                         \n",
      "==============================================================================\n",
      "                 coef    std err          t      P>|t|      [0.025      0.975]\n",
      "------------------------------------------------------------------------------\n",
      "const       1.342e+07   1.41e+07      0.951      0.342   -1.43e+07    4.11e+07\n",
      "Runtime     4.449e+05   1.12e+05      3.975      0.000    2.25e+05    6.64e+05\n",
      "==============================================================================\n",
      "Omnibus:                      748.694   Durbin-Watson:                   1.789\n",
      "Prob(Omnibus):                  0.000   Jarque-Bera (JB):            13124.369\n",
      "Skew:                           3.329   Prob(JB):                         0.00\n",
      "Kurtosis:                      19.461   Cond. No.                         566.\n",
      "==============================================================================\n",
      "\n",
      "Notes:\n",
      "[1] Standard Errors assume that the covariance matrix of the errors is correctly specified.\n"
     ]
    }
   ],
   "source": [
    "run_cte = sm.add_constant(df['Runtime'])\n",
    "model = sm.OLS(df['Gross'],run_cte).fit()\n",
    "print(model.summary())"
   ]
  },
  {
   "cell_type": "code",
   "execution_count": 17,
   "id": "1a9ec2ca",
   "metadata": {},
   "outputs": [
    {
     "data": {
      "image/png": "[encoded data removed]",
      "text/plain": [
       "<Figure size 640x480 with 1 Axes>"
      ]
     },
     "metadata": {},
     "output_type": "display_data"
    }
   ],
   "source": [
    "plt.plot(df['Runtime'],model.predict(run_cte),color=\"red\",label=\"Regressão linear\")\n",
    "plt.scatter(df['Runtime'],df['Gross'], color=\"blue\",label=\"Dados da tabela\")\n",
    "plt.xlabel('Runtime')\n",
    "plt.ylabel('Gross')\n",
    "plt.legend()\n",
    "plt.show()"
   ]
  },
  {
   "cell_type": "markdown",
   "id": "4d1acefd",
   "metadata": {},
   "source": [
    "O lucro aparenta crescer levemente com o aumento da duração do filme.\n",
    "Os maiores rendimentos estão na faixa de 100 a 200 minutos"
   ]
  },
  {
   "cell_type": "markdown",
   "id": "61f020ce",
   "metadata": {},
   "source": [
    "<h4>Média de Rendimento de acordo com a classificação indicativa</h4>\n"
   ]
  },
  {
   "cell_type": "code",
   "execution_count": 18,
   "id": "aeb339f8",
   "metadata": {
    "scrolled": true
   },
   "outputs": [
    {
     "data": {
      "text/html": [
       "<div>\n",
       "<style scoped>\n",
       "    .dataframe tbody tr th:only-of-type {\n",
       "        vertical-align: middle;\n",
       "    }\n",
       "\n",
       "    .dataframe tbody tr th {\n",
       "        vertical-align: top;\n",
       "    }\n",
       "\n",
       "    .dataframe thead th {\n",
       "        text-align: right;\n",
       "    }\n",
       "</style>\n",
       "<table border=\"1\" class=\"dataframe\">\n",
       "  <thead>\n",
       "    <tr style=\"text-align: right;\">\n",
       "      <th></th>\n",
       "      <th>Certificate</th>\n",
       "      <th>Gross</th>\n",
       "    </tr>\n",
       "  </thead>\n",
       "  <tbody>\n",
       "    <tr>\n",
       "      <th>14</th>\n",
       "      <td>UA</td>\n",
       "      <td>1.268216e+08</td>\n",
       "    </tr>\n",
       "    <tr>\n",
       "      <th>12</th>\n",
       "      <td>U</td>\n",
       "      <td>8.446207e+07</td>\n",
       "    </tr>\n",
       "    <tr>\n",
       "      <th>0</th>\n",
       "      <td>16</td>\n",
       "      <td>6.808257e+07</td>\n",
       "    </tr>\n",
       "    <tr>\n",
       "      <th>9</th>\n",
       "      <td>TV-14</td>\n",
       "      <td>6.808257e+07</td>\n",
       "    </tr>\n",
       "    <tr>\n",
       "      <th>10</th>\n",
       "      <td>TV-MA</td>\n",
       "      <td>6.808257e+07</td>\n",
       "    </tr>\n",
       "    <tr>\n",
       "      <th>1</th>\n",
       "      <td>A</td>\n",
       "      <td>6.443238e+07</td>\n",
       "    </tr>\n",
       "    <tr>\n",
       "      <th>3</th>\n",
       "      <td>G</td>\n",
       "      <td>5.267737e+07</td>\n",
       "    </tr>\n",
       "    <tr>\n",
       "      <th>11</th>\n",
       "      <td>TV-PG</td>\n",
       "      <td>4.542394e+07</td>\n",
       "    </tr>\n",
       "    <tr>\n",
       "      <th>6</th>\n",
       "      <td>PG-13</td>\n",
       "      <td>3.984411e+07</td>\n",
       "    </tr>\n",
       "    <tr>\n",
       "      <th>5</th>\n",
       "      <td>PG</td>\n",
       "      <td>3.552411e+07</td>\n",
       "    </tr>\n",
       "    <tr>\n",
       "      <th>2</th>\n",
       "      <td>Approved</td>\n",
       "      <td>3.473700e+07</td>\n",
       "    </tr>\n",
       "    <tr>\n",
       "      <th>8</th>\n",
       "      <td>R</td>\n",
       "      <td>2.897976e+07</td>\n",
       "    </tr>\n",
       "    <tr>\n",
       "      <th>13</th>\n",
       "      <td>U/A</td>\n",
       "      <td>2.602096e+07</td>\n",
       "    </tr>\n",
       "    <tr>\n",
       "      <th>7</th>\n",
       "      <td>Passed</td>\n",
       "      <td>2.570371e+07</td>\n",
       "    </tr>\n",
       "    <tr>\n",
       "      <th>4</th>\n",
       "      <td>GP</td>\n",
       "      <td>7.089580e+05</td>\n",
       "    </tr>\n",
       "    <tr>\n",
       "      <th>15</th>\n",
       "      <td>Unrated</td>\n",
       "      <td>3.000000e+05</td>\n",
       "    </tr>\n",
       "  </tbody>\n",
       "</table>\n",
       "</div>"
      ],
      "text/plain": [
       "   Certificate         Gross\n",
       "14          UA  1.268216e+08\n",
       "12           U  8.446207e+07\n",
       "0           16  6.808257e+07\n",
       "9        TV-14  6.808257e+07\n",
       "10       TV-MA  6.808257e+07\n",
       "1            A  6.443238e+07\n",
       "3            G  5.267737e+07\n",
       "11       TV-PG  4.542394e+07\n",
       "6        PG-13  3.984411e+07\n",
       "5           PG  3.552411e+07\n",
       "2     Approved  3.473700e+07\n",
       "8            R  2.897976e+07\n",
       "13         U/A  2.602096e+07\n",
       "7       Passed  2.570371e+07\n",
       "4           GP  7.089580e+05\n",
       "15     Unrated  3.000000e+05"
      ]
     },
     "execution_count": 18,
     "metadata": {},
     "output_type": "execute_result"
    }
   ],
   "source": [
    "grouped_df = df.groupby('Certificate')['Gross'].mean().reset_index()\n",
    "grouped_df.sort_values(by=\"Gross\", ascending=False)"
   ]
  },
  {
   "cell_type": "code",
   "execution_count": 19,
   "id": "b2c701f6",
   "metadata": {},
   "outputs": [
    {
     "data": {
      "text/plain": [
       "(array([ 0,  1,  2,  3,  4,  5,  6,  7,  8,  9, 10, 11, 12, 13, 14, 15]),\n",
       " [Text(0, 0, '16'),\n",
       "  Text(1, 0, 'A'),\n",
       "  Text(2, 0, 'Approved'),\n",
       "  Text(3, 0, 'G'),\n",
       "  Text(4, 0, 'GP'),\n",
       "  Text(5, 0, 'PG'),\n",
       "  Text(6, 0, 'PG-13'),\n",
       "  Text(7, 0, 'Passed'),\n",
       "  Text(8, 0, 'R'),\n",
       "  Text(9, 0, 'TV-14'),\n",
       "  Text(10, 0, 'TV-MA'),\n",
       "  Text(11, 0, 'TV-PG'),\n",
       "  Text(12, 0, 'U'),\n",
       "  Text(13, 0, 'U/A'),\n",
       "  Text(14, 0, 'UA'),\n",
       "  Text(15, 0, 'Unrated')])"
      ]
     },
     "execution_count": 19,
     "metadata": {},
     "output_type": "execute_result"
    },
    {
     "data": {
      "image/png": "[encoded data removed]",
      "text/plain": [
       "<Figure size 640x480 with 1 Axes>"
      ]
     },
     "metadata": {},
     "output_type": "display_data"
    }
   ],
   "source": [
    "sns.barplot(data=grouped_df, x='Certificate', y='Gross')\n",
    "plt.xticks(rotation=45)"
   ]
  },
  {
   "cell_type": "markdown",
   "id": "33324e7c",
   "metadata": {},
   "source": [
    "O sistema de classificação indicativa da tabela utiliza padrões de diversos paises, e algumas delas se enquadram em mais de uma categoria do EUA. Porém, as classificações \"U/A\", \"UA\", \"16\", \"TV-14\" correspondem a \"PG-13\". Portanto, consirando uma empresa estadounidense, a classificação mais rentável é PG-13\n"
   ]
  },
  {
   "cell_type": "markdown",
   "id": "6fba6d64",
   "metadata": {},
   "source": [
    "<h4>Conclusão</h4>\n",
    "<h4>2.b</h4>\n",
    "Um bom filme para ser produzido:\n",
    "Genero: Aventura, Ficção cientifica ou Ação\n",
    "Classificação indicativa: PG-13\n",
    "Diretor: Anthony Russo ou Gareth Edwards\n",
    "Duração: 100 a 200min\n",
    "Atores: Michelle Rodriguez, Billy Zane, Sarah Vowell ou\tHuck Milner"
   ]
  },
  {
   "cell_type": "markdown",
   "id": "31d3cd57",
   "metadata": {},
   "source": [
    "<h3>EDA: IMDB_Rating</h3>"
   ]
  },
  {
   "cell_type": "markdown",
   "id": "6df068ac",
   "metadata": {},
   "source": [
    "<h4>Nota x Rendimento</h4>\n"
   ]
  },
  {
   "cell_type": "markdown",
   "id": "62463475",
   "metadata": {},
   "source": [
    "Regressão linear:"
   ]
  },
  {
   "cell_type": "code",
   "execution_count": 20,
   "id": "5e43e48b",
   "metadata": {
    "scrolled": true
   },
   "outputs": [
    {
     "name": "stdout",
     "output_type": "stream",
     "text": [
      "                            OLS Regression Results                            \n",
      "==============================================================================\n",
      "Dep. Variable:            IMDB_Rating   R-squared:                       0.009\n",
      "Model:                            OLS   Adj. R-squared:                  0.008\n",
      "Method:                 Least Squares   F-statistic:                     8.692\n",
      "Date:                Thu, 04 Jul 2024   Prob (F-statistic):            0.00327\n",
      "Time:                        21:31:55   Log-Likelihood:                -113.09\n",
      "No. Observations:                 999   AIC:                             230.2\n",
      "Df Residuals:                     997   BIC:                             240.0\n",
      "Df Model:                           1                                         \n",
      "Covariance Type:            nonrobust                                         \n",
      "==============================================================================\n",
      "                 coef    std err          t      P>|t|      [0.025      0.975]\n",
      "------------------------------------------------------------------------------\n",
      "const          7.9307      0.010    763.963      0.000       7.910       7.951\n",
      "Gross       2.529e-10   8.58e-11      2.948      0.003    8.46e-11    4.21e-10\n",
      "==============================================================================\n",
      "Omnibus:                      116.197   Durbin-Watson:                   0.019\n",
      "Prob(Omnibus):                  0.000   Jarque-Bera (JB):              159.760\n",
      "Skew:                           0.882   Prob(JB):                     2.04e-35\n",
      "Kurtosis:                       3.851   Cond. No.                     1.46e+08\n",
      "==============================================================================\n",
      "\n",
      "Notes:\n",
      "[1] Standard Errors assume that the covariance matrix of the errors is correctly specified.\n",
      "[2] The condition number is large, 1.46e+08. This might indicate that there are\n",
      "strong multicollinearity or other numerical problems.\n"
     ]
    }
   ],
   "source": [
    "gross_cte = sm.add_constant(df['Gross'])\n",
    "model = sm.OLS(df['IMDB_Rating'],gross_cte).fit()\n",
    "print(model.summary())"
   ]
  },
  {
   "cell_type": "code",
   "execution_count": 21,
   "id": "2c4abe9e",
   "metadata": {},
   "outputs": [
    {
     "data": {
      "image/png": "[encoded data removed]",
      "text/plain": [
       "<Figure size 640x480 with 1 Axes>"
      ]
     },
     "metadata": {},
     "output_type": "display_data"
    }
   ],
   "source": [
    "plt.plot(df['Gross'],model.predict(gross_cte),color=\"red\",label=\"Regressão linear\")\n",
    "plt.scatter(df['Gross'],df['IMDB_Rating'], color=\"blue\",label=\"Dados da tabela\")\n",
    "plt.xlabel('Gross')\n",
    "plt.ylabel('IMDB_Rating')\n",
    "plt.legend()\n",
    "plt.show()"
   ]
  },
  {
   "cell_type": "code",
   "execution_count": null,
   "id": "22938330",
   "metadata": {},
   "outputs": [],
   "source": []
  },
  {
   "cell_type": "markdown",
   "id": "f20518e2",
   "metadata": {},
   "source": [
    "Os pontos amostrais ligados a menores lucros estão localizados em diversas notas.\n",
    "É possível ver que a relação entre nota e lucro é pequena."
   ]
  },
  {
   "cell_type": "markdown",
   "id": "021d739c",
   "metadata": {},
   "source": [
    "<h4>Nota x Genero</h4>\n"
   ]
  },
  {
   "cell_type": "code",
   "execution_count": 22,
   "id": "510d9b42",
   "metadata": {},
   "outputs": [
    {
     "data": {
      "text/html": [
       "<div>\n",
       "<style scoped>\n",
       "    .dataframe tbody tr th:only-of-type {\n",
       "        vertical-align: middle;\n",
       "    }\n",
       "\n",
       "    .dataframe tbody tr th {\n",
       "        vertical-align: top;\n",
       "    }\n",
       "\n",
       "    .dataframe thead th {\n",
       "        text-align: right;\n",
       "    }\n",
       "</style>\n",
       "<table border=\"1\" class=\"dataframe\">\n",
       "  <thead>\n",
       "    <tr style=\"text-align: right;\">\n",
       "      <th></th>\n",
       "      <th>Genre</th>\n",
       "      <th>IMDB_Rating</th>\n",
       "    </tr>\n",
       "  </thead>\n",
       "  <tbody>\n",
       "    <tr>\n",
       "      <th>19</th>\n",
       "      <td>War</td>\n",
       "      <td>8.013725</td>\n",
       "    </tr>\n",
       "    <tr>\n",
       "      <th>20</th>\n",
       "      <td>Western</td>\n",
       "      <td>8.000000</td>\n",
       "    </tr>\n",
       "    <tr>\n",
       "      <th>9</th>\n",
       "      <td>Film-Noir</td>\n",
       "      <td>7.989474</td>\n",
       "    </tr>\n",
       "    <tr>\n",
       "      <th>16</th>\n",
       "      <td>Sci-Fi</td>\n",
       "      <td>7.977612</td>\n",
       "    </tr>\n",
       "    <tr>\n",
       "      <th>14</th>\n",
       "      <td>Mystery</td>\n",
       "      <td>7.967677</td>\n",
       "    </tr>\n",
       "    <tr>\n",
       "      <th>6</th>\n",
       "      <td>Drama</td>\n",
       "      <td>7.957538</td>\n",
       "    </tr>\n",
       "    <tr>\n",
       "      <th>5</th>\n",
       "      <td>Crime</td>\n",
       "      <td>7.954545</td>\n",
       "    </tr>\n",
       "    <tr>\n",
       "      <th>10</th>\n",
       "      <td>History</td>\n",
       "      <td>7.953571</td>\n",
       "    </tr>\n",
       "    <tr>\n",
       "      <th>1</th>\n",
       "      <td>Adventure</td>\n",
       "      <td>7.952041</td>\n",
       "    </tr>\n",
       "    <tr>\n",
       "      <th>0</th>\n",
       "      <td>Action</td>\n",
       "      <td>7.948677</td>\n",
       "    </tr>\n",
       "    <tr>\n",
       "      <th>13</th>\n",
       "      <td>Musical</td>\n",
       "      <td>7.947059</td>\n",
       "    </tr>\n",
       "    <tr>\n",
       "      <th>3</th>\n",
       "      <td>Biography</td>\n",
       "      <td>7.935780</td>\n",
       "    </tr>\n",
       "    <tr>\n",
       "      <th>8</th>\n",
       "      <td>Fantasy</td>\n",
       "      <td>7.931818</td>\n",
       "    </tr>\n",
       "    <tr>\n",
       "      <th>2</th>\n",
       "      <td>Animation</td>\n",
       "      <td>7.930488</td>\n",
       "    </tr>\n",
       "    <tr>\n",
       "      <th>17</th>\n",
       "      <td>Sport</td>\n",
       "      <td>7.926316</td>\n",
       "    </tr>\n",
       "    <tr>\n",
       "      <th>15</th>\n",
       "      <td>Romance</td>\n",
       "      <td>7.925600</td>\n",
       "    </tr>\n",
       "    <tr>\n",
       "      <th>12</th>\n",
       "      <td>Music</td>\n",
       "      <td>7.914286</td>\n",
       "    </tr>\n",
       "    <tr>\n",
       "      <th>7</th>\n",
       "      <td>Family</td>\n",
       "      <td>7.912500</td>\n",
       "    </tr>\n",
       "    <tr>\n",
       "      <th>18</th>\n",
       "      <td>Thriller</td>\n",
       "      <td>7.909489</td>\n",
       "    </tr>\n",
       "    <tr>\n",
       "      <th>4</th>\n",
       "      <td>Comedy</td>\n",
       "      <td>7.903433</td>\n",
       "    </tr>\n",
       "    <tr>\n",
       "      <th>11</th>\n",
       "      <td>Horror</td>\n",
       "      <td>7.887500</td>\n",
       "    </tr>\n",
       "  </tbody>\n",
       "</table>\n",
       "</div>"
      ],
      "text/plain": [
       "        Genre  IMDB_Rating\n",
       "19        War     8.013725\n",
       "20    Western     8.000000\n",
       "9   Film-Noir     7.989474\n",
       "16     Sci-Fi     7.977612\n",
       "14    Mystery     7.967677\n",
       "6       Drama     7.957538\n",
       "5       Crime     7.954545\n",
       "10    History     7.953571\n",
       "1   Adventure     7.952041\n",
       "0      Action     7.948677\n",
       "13    Musical     7.947059\n",
       "3   Biography     7.935780\n",
       "8     Fantasy     7.931818\n",
       "2   Animation     7.930488\n",
       "17      Sport     7.926316\n",
       "15    Romance     7.925600\n",
       "12      Music     7.914286\n",
       "7      Family     7.912500\n",
       "18   Thriller     7.909489\n",
       "4      Comedy     7.903433\n",
       "11     Horror     7.887500"
      ]
     },
     "execution_count": 22,
     "metadata": {},
     "output_type": "execute_result"
    }
   ],
   "source": [
    "df_exploded = df.explode(\"Genre\")\n",
    "grouped_df = df_exploded.groupby('Genre')['IMDB_Rating'].mean().reset_index()\n",
    "grouped_df.sort_values(by=\"IMDB_Rating\", ascending=False)\n"
   ]
  },
  {
   "cell_type": "code",
   "execution_count": 23,
   "id": "1637ac24",
   "metadata": {},
   "outputs": [
    {
     "data": {
      "text/plain": [
       "(array([ 0,  1,  2,  3,  4,  5,  6,  7,  8,  9, 10, 11, 12, 13, 14, 15, 16,\n",
       "        17, 18, 19, 20]),\n",
       " [Text(0, 0, 'Action'),\n",
       "  Text(1, 0, 'Adventure'),\n",
       "  Text(2, 0, 'Animation'),\n",
       "  Text(3, 0, 'Biography'),\n",
       "  Text(4, 0, 'Comedy'),\n",
       "  Text(5, 0, 'Crime'),\n",
       "  Text(6, 0, 'Drama'),\n",
       "  Text(7, 0, 'Family'),\n",
       "  Text(8, 0, 'Fantasy'),\n",
       "  Text(9, 0, 'Film-Noir'),\n",
       "  Text(10, 0, 'History'),\n",
       "  Text(11, 0, 'Horror'),\n",
       "  Text(12, 0, 'Music'),\n",
       "  Text(13, 0, 'Musical'),\n",
       "  Text(14, 0, 'Mystery'),\n",
       "  Text(15, 0, 'Romance'),\n",
       "  Text(16, 0, 'Sci-Fi'),\n",
       "  Text(17, 0, 'Sport'),\n",
       "  Text(18, 0, 'Thriller'),\n",
       "  Text(19, 0, 'War'),\n",
       "  Text(20, 0, 'Western')])"
      ]
     },
     "execution_count": 23,
     "metadata": {},
     "output_type": "execute_result"
    },
    {
     "data": {
      "image/png": "[encoded data removed]",
      "text/plain": [
       "<Figure size 640x480 with 1 Axes>"
      ]
     },
     "metadata": {},
     "output_type": "display_data"
    }
   ],
   "source": [
    "sns.barplot(data=grouped_df, x='Genre', y='IMDB_Rating')\n",
    "plt.xticks(rotation=90)"
   ]
  },
  {
   "cell_type": "markdown",
   "id": "60ef21ea",
   "metadata": {},
   "source": [
    "O genero não parece afetar as notas. "
   ]
  },
  {
   "cell_type": "markdown",
   "id": "ca4f9091",
   "metadata": {},
   "source": [
    "<h4>Nota x Diretor </h4>\n"
   ]
  },
  {
   "cell_type": "code",
   "execution_count": 24,
   "id": "93bfb521",
   "metadata": {
    "scrolled": true
   },
   "outputs": [
    {
     "data": {
      "text/html": [
       "<div>\n",
       "<style scoped>\n",
       "    .dataframe tbody tr th:only-of-type {\n",
       "        vertical-align: middle;\n",
       "    }\n",
       "\n",
       "    .dataframe tbody tr th {\n",
       "        vertical-align: top;\n",
       "    }\n",
       "\n",
       "    .dataframe thead th {\n",
       "        text-align: right;\n",
       "    }\n",
       "</style>\n",
       "<table border=\"1\" class=\"dataframe\">\n",
       "  <thead>\n",
       "    <tr style=\"text-align: right;\">\n",
       "      <th></th>\n",
       "      <th>Director</th>\n",
       "      <th>IMDB_Rating</th>\n",
       "    </tr>\n",
       "  </thead>\n",
       "  <tbody>\n",
       "    <tr>\n",
       "      <th>191</th>\n",
       "      <td>Irvin Kershner</td>\n",
       "      <td>8.7</td>\n",
       "    </tr>\n",
       "    <tr>\n",
       "      <th>284</th>\n",
       "      <td>Lana Wachowski</td>\n",
       "      <td>8.7</td>\n",
       "    </tr>\n",
       "    <tr>\n",
       "      <th>158</th>\n",
       "      <td>George Lucas</td>\n",
       "      <td>8.6</td>\n",
       "    </tr>\n",
       "    <tr>\n",
       "      <th>427</th>\n",
       "      <td>Roberto Benigni</td>\n",
       "      <td>8.6</td>\n",
       "    </tr>\n",
       "    <tr>\n",
       "      <th>141</th>\n",
       "      <td>Frank Darabont</td>\n",
       "      <td>8.6</td>\n",
       "    </tr>\n",
       "  </tbody>\n",
       "</table>\n",
       "</div>"
      ],
      "text/plain": [
       "            Director  IMDB_Rating\n",
       "191   Irvin Kershner          8.7\n",
       "284   Lana Wachowski          8.7\n",
       "158     George Lucas          8.6\n",
       "427  Roberto Benigni          8.6\n",
       "141   Frank Darabont          8.6"
      ]
     },
     "execution_count": 24,
     "metadata": {},
     "output_type": "execute_result"
    }
   ],
   "source": [
    "grouped_df = df.groupby('Director')['IMDB_Rating'].mean().reset_index()\n",
    "grouped_df.sort_values(by=\"IMDB_Rating\", ascending=False).head()"
   ]
  },
  {
   "cell_type": "markdown",
   "id": "0ea3231d",
   "metadata": {},
   "source": [
    "A escolha de diretor parece impactar as notas."
   ]
  },
  {
   "cell_type": "markdown",
   "id": "62f33764",
   "metadata": {},
   "source": [
    "<h4>Nota x Duração</h4>\n"
   ]
  },
  {
   "cell_type": "code",
   "execution_count": 25,
   "id": "59ce39b0",
   "metadata": {
    "scrolled": true
   },
   "outputs": [
    {
     "data": {
      "image/png": "[encoded data removed]",
      "text/plain": [
       "<Figure size 640x480 with 1 Axes>"
      ]
     },
     "metadata": {},
     "output_type": "display_data"
    }
   ],
   "source": [
    "plt.scatter(df['Runtime'],df['IMDB_Rating'], color=\"blue\",label=\"Dados da tabela\")\n",
    "plt.xlabel('Runtime')\n",
    "plt.ylabel('IMDB_Rating')\n",
    "plt.legend()\n",
    "plt.show()"
   ]
  },
  {
   "cell_type": "markdown",
   "id": "5163feb0",
   "metadata": {},
   "source": [
    "Não há correlação.\n",
    "As maiores notas são para filmes com duração de 150 a 200 minutos, aproximadamente. "
   ]
  },
  {
   "cell_type": "markdown",
   "id": "e102043f",
   "metadata": {},
   "source": [
    "<h4>Nota x Atores</h4>\n"
   ]
  },
  {
   "cell_type": "code",
   "execution_count": 26,
   "id": "b89d01b6",
   "metadata": {},
   "outputs": [
    {
     "data": {
      "text/html": [
       "<div>\n",
       "<style scoped>\n",
       "    .dataframe tbody tr th:only-of-type {\n",
       "        vertical-align: middle;\n",
       "    }\n",
       "\n",
       "    .dataframe tbody tr th {\n",
       "        vertical-align: top;\n",
       "    }\n",
       "\n",
       "    .dataframe thead th {\n",
       "        text-align: right;\n",
       "    }\n",
       "</style>\n",
       "<table border=\"1\" class=\"dataframe\">\n",
       "  <thead>\n",
       "    <tr style=\"text-align: right;\">\n",
       "      <th></th>\n",
       "      <th>Stars</th>\n",
       "      <th>IMDB_Rating</th>\n",
       "    </tr>\n",
       "  </thead>\n",
       "  <tbody>\n",
       "    <tr>\n",
       "      <th>2</th>\n",
       "      <td>Aaron Eckhart</td>\n",
       "      <td>9.0</td>\n",
       "    </tr>\n",
       "    <tr>\n",
       "      <th>367</th>\n",
       "      <td>Caroline Goodall</td>\n",
       "      <td>8.9</td>\n",
       "    </tr>\n",
       "    <tr>\n",
       "      <th>1263</th>\n",
       "      <td>John Travolta</td>\n",
       "      <td>8.9</td>\n",
       "    </tr>\n",
       "    <tr>\n",
       "      <th>2287</th>\n",
       "      <td>Sean Bean</td>\n",
       "      <td>8.8</td>\n",
       "    </tr>\n",
       "    <tr>\n",
       "      <th>1719</th>\n",
       "      <td>Meat Loaf</td>\n",
       "      <td>8.8</td>\n",
       "    </tr>\n",
       "  </tbody>\n",
       "</table>\n",
       "</div>"
      ],
      "text/plain": [
       "                 Stars  IMDB_Rating\n",
       "2        Aaron Eckhart          9.0\n",
       "367   Caroline Goodall          8.9\n",
       "1263     John Travolta          8.9\n",
       "2287         Sean Bean          8.8\n",
       "1719         Meat Loaf          8.8"
      ]
     },
     "execution_count": 26,
     "metadata": {},
     "output_type": "execute_result"
    }
   ],
   "source": [
    "df_exploded = df.explode(\"Stars\")\n",
    "grouped_df = df_exploded.groupby('Stars')['IMDB_Rating'].mean().reset_index()\n",
    "grouped_df.sort_values(by=\"IMDB_Rating\", ascending=False).head()"
   ]
  },
  {
   "cell_type": "markdown",
   "id": "8430f6de",
   "metadata": {},
   "source": [
    "<h4>Nota x Certificado</h4>\n"
   ]
  },
  {
   "cell_type": "code",
   "execution_count": 27,
   "id": "d3705e9a",
   "metadata": {},
   "outputs": [
    {
     "data": {
      "text/html": [
       "<div>\n",
       "<style scoped>\n",
       "    .dataframe tbody tr th:only-of-type {\n",
       "        vertical-align: middle;\n",
       "    }\n",
       "\n",
       "    .dataframe tbody tr th {\n",
       "        vertical-align: top;\n",
       "    }\n",
       "\n",
       "    .dataframe thead th {\n",
       "        text-align: right;\n",
       "    }\n",
       "</style>\n",
       "<table border=\"1\" class=\"dataframe\">\n",
       "  <thead>\n",
       "    <tr style=\"text-align: right;\">\n",
       "      <th></th>\n",
       "      <th>Certificate</th>\n",
       "      <th>IMDB_Rating</th>\n",
       "    </tr>\n",
       "  </thead>\n",
       "  <tbody>\n",
       "    <tr>\n",
       "      <th>9</th>\n",
       "      <td>TV-14</td>\n",
       "      <td>8.300000</td>\n",
       "    </tr>\n",
       "    <tr>\n",
       "      <th>0</th>\n",
       "      <td>16</td>\n",
       "      <td>8.100000</td>\n",
       "    </tr>\n",
       "    <tr>\n",
       "      <th>10</th>\n",
       "      <td>TV-MA</td>\n",
       "      <td>8.100000</td>\n",
       "    </tr>\n",
       "    <tr>\n",
       "      <th>15</th>\n",
       "      <td>Unrated</td>\n",
       "      <td>8.100000</td>\n",
       "    </tr>\n",
       "    <tr>\n",
       "      <th>7</th>\n",
       "      <td>Passed</td>\n",
       "      <td>8.020588</td>\n",
       "    </tr>\n",
       "    <tr>\n",
       "      <th>3</th>\n",
       "      <td>G</td>\n",
       "      <td>8.000000</td>\n",
       "    </tr>\n",
       "    <tr>\n",
       "      <th>1</th>\n",
       "      <td>A</td>\n",
       "      <td>7.992347</td>\n",
       "    </tr>\n",
       "    <tr>\n",
       "      <th>12</th>\n",
       "      <td>U</td>\n",
       "      <td>7.976923</td>\n",
       "    </tr>\n",
       "    <tr>\n",
       "      <th>14</th>\n",
       "      <td>UA</td>\n",
       "      <td>7.957143</td>\n",
       "    </tr>\n",
       "    <tr>\n",
       "      <th>2</th>\n",
       "      <td>Approved</td>\n",
       "      <td>7.945455</td>\n",
       "    </tr>\n",
       "    <tr>\n",
       "      <th>5</th>\n",
       "      <td>PG</td>\n",
       "      <td>7.927027</td>\n",
       "    </tr>\n",
       "    <tr>\n",
       "      <th>11</th>\n",
       "      <td>TV-PG</td>\n",
       "      <td>7.900000</td>\n",
       "    </tr>\n",
       "    <tr>\n",
       "      <th>8</th>\n",
       "      <td>R</td>\n",
       "      <td>7.869863</td>\n",
       "    </tr>\n",
       "    <tr>\n",
       "      <th>4</th>\n",
       "      <td>GP</td>\n",
       "      <td>7.850000</td>\n",
       "    </tr>\n",
       "    <tr>\n",
       "      <th>6</th>\n",
       "      <td>PG-13</td>\n",
       "      <td>7.797674</td>\n",
       "    </tr>\n",
       "    <tr>\n",
       "      <th>13</th>\n",
       "      <td>U/A</td>\n",
       "      <td>7.600000</td>\n",
       "    </tr>\n",
       "  </tbody>\n",
       "</table>\n",
       "</div>"
      ],
      "text/plain": [
       "   Certificate  IMDB_Rating\n",
       "9        TV-14     8.300000\n",
       "0           16     8.100000\n",
       "10       TV-MA     8.100000\n",
       "15     Unrated     8.100000\n",
       "7       Passed     8.020588\n",
       "3            G     8.000000\n",
       "1            A     7.992347\n",
       "12           U     7.976923\n",
       "14          UA     7.957143\n",
       "2     Approved     7.945455\n",
       "5           PG     7.927027\n",
       "11       TV-PG     7.900000\n",
       "8            R     7.869863\n",
       "4           GP     7.850000\n",
       "6        PG-13     7.797674\n",
       "13         U/A     7.600000"
      ]
     },
     "execution_count": 27,
     "metadata": {},
     "output_type": "execute_result"
    }
   ],
   "source": [
    "grouped_df = df.groupby('Certificate')['IMDB_Rating'].mean().reset_index()\n",
    "grouped_df.sort_values(by=\"IMDB_Rating\", ascending=False)"
   ]
  },
  {
   "cell_type": "code",
   "execution_count": 28,
   "id": "c7b2d389",
   "metadata": {},
   "outputs": [
    {
     "data": {
      "text/plain": [
       "(array([ 0,  1,  2,  3,  4,  5,  6,  7,  8,  9, 10, 11, 12, 13, 14, 15]),\n",
       " [Text(0, 0, '16'),\n",
       "  Text(1, 0, 'A'),\n",
       "  Text(2, 0, 'Approved'),\n",
       "  Text(3, 0, 'G'),\n",
       "  Text(4, 0, 'GP'),\n",
       "  Text(5, 0, 'PG'),\n",
       "  Text(6, 0, 'PG-13'),\n",
       "  Text(7, 0, 'Passed'),\n",
       "  Text(8, 0, 'R'),\n",
       "  Text(9, 0, 'TV-14'),\n",
       "  Text(10, 0, 'TV-MA'),\n",
       "  Text(11, 0, 'TV-PG'),\n",
       "  Text(12, 0, 'U'),\n",
       "  Text(13, 0, 'U/A'),\n",
       "  Text(14, 0, 'UA'),\n",
       "  Text(15, 0, 'Unrated')])"
      ]
     },
     "execution_count": 28,
     "metadata": {},
     "output_type": "execute_result"
    },
    {
     "data": {
      "image/png": "[encoded data removed]",
      "text/plain": [
       "<Figure size 640x480 with 1 Axes>"
      ]
     },
     "metadata": {},
     "output_type": "display_data"
    }
   ],
   "source": [
    "sns.barplot(data=grouped_df, x='Certificate', y='IMDB_Rating')\n",
    "plt.xticks(rotation=45)"
   ]
  },
  {
   "cell_type": "markdown",
   "id": "cf850caa",
   "metadata": {},
   "source": [
    "A classificação indicativa parece não afetar muito a nota"
   ]
  },
  {
   "cell_type": "markdown",
   "id": "672eab95",
   "metadata": {},
   "source": [
    "<h4>Nota x Ano</h4>\n"
   ]
  },
  {
   "cell_type": "code",
   "execution_count": 31,
   "id": "c240ad95",
   "metadata": {},
   "outputs": [
    {
     "data": {
      "image/png": "[encoded data removed]",
      "text/plain": [
       "<Figure size 640x480 with 1 Axes>"
      ]
     },
     "metadata": {},
     "output_type": "display_data"
    }
   ],
   "source": [
    "plt.scatter(df['Released_Year'],df['IMDB_Rating'], color=\"blue\",label=\"Dados da tabela\")\n",
    "plt.xlabel('Released_Year')\n",
    "plt.ylabel('IMDB_Rating')\n",
    "plt.legend()\n",
    "plt.xticks([1900, 1930, 1950, 1970, 1990, 2010, 2030])\n",
    "plt.show()"
   ]
  },
  {
   "cell_type": "markdown",
   "id": "456775cc",
   "metadata": {},
   "source": [
    "Não há correlação, porém os filmes com maior nota tem ano de lançamento de 1950 até 2010, aproximadamente."
   ]
  },
  {
   "cell_type": "markdown",
   "id": "af4e6752",
   "metadata": {},
   "source": [
    "<h4>Nota x Nº votos</h4>\n"
   ]
  },
  {
   "cell_type": "code",
   "execution_count": 30,
   "id": "bfbef217",
   "metadata": {},
   "outputs": [
    {
     "data": {
      "text/plain": [
       "<Axes: xlabel='No_of_Votes', ylabel='IMDB_Rating'>"
      ]
     },
     "execution_count": 30,
     "metadata": {},
     "output_type": "execute_result"
    },
    {
     "data": {
      "image/png": "[encoded data removed]",
      "text/plain": [
       "<Figure size 640x480 with 1 Axes>"
      ]
     },
     "metadata": {},
     "output_type": "display_data"
    }
   ],
   "source": [
    "df.plot(kind='scatter', x='No_of_Votes', y='IMDB_Rating')"
   ]
  },
  {
   "cell_type": "code",
   "execution_count": 32,
   "id": "bd810aaf",
   "metadata": {
    "scrolled": true
   },
   "outputs": [
    {
     "name": "stdout",
     "output_type": "stream",
     "text": [
      "                            OLS Regression Results                            \n",
      "==============================================================================\n",
      "Dep. Variable:            IMDB_Rating   R-squared:                       0.230\n",
      "Model:                            OLS   Adj. R-squared:                  0.229\n",
      "Method:                 Least Squares   F-statistic:                     297.4\n",
      "Date:                Thu, 04 Jul 2024   Prob (F-statistic):           1.62e-58\n",
      "Time:                        21:34:36   Log-Likelihood:                 12.950\n",
      "No. Observations:                 999   AIC:                            -21.90\n",
      "Df Residuals:                     997   BIC:                            -12.09\n",
      "Df Model:                           1                                         \n",
      "Covariance Type:            nonrobust                                         \n",
      "===============================================================================\n",
      "                  coef    std err          t      P>|t|      [0.025      0.975]\n",
      "-------------------------------------------------------------------------------\n",
      "const           7.8375      0.010    790.663      0.000       7.818       7.857\n",
      "No_of_Votes  4.067e-07   2.36e-08     17.244      0.000     3.6e-07    4.53e-07\n",
      "==============================================================================\n",
      "Omnibus:                       26.477   Durbin-Watson:                   0.295\n",
      "Prob(Omnibus):                  0.000   Jarque-Bera (JB):               27.365\n",
      "Skew:                           0.387   Prob(JB):                     1.14e-06\n",
      "Kurtosis:                       2.756   Cond. No.                     5.51e+05\n",
      "==============================================================================\n",
      "\n",
      "Notes:\n",
      "[1] Standard Errors assume that the covariance matrix of the errors is correctly specified.\n",
      "[2] The condition number is large, 5.51e+05. This might indicate that there are\n",
      "strong multicollinearity or other numerical problems.\n"
     ]
    }
   ],
   "source": [
    "n_cte = sm.add_constant(df['No_of_Votes'])\n",
    "model = sm.OLS(df['IMDB_Rating'],n_cte).fit()\n",
    "print(model.summary())"
   ]
  },
  {
   "cell_type": "code",
   "execution_count": 34,
   "id": "18c06b86",
   "metadata": {},
   "outputs": [
    {
     "data": {
      "image/png": "[encoded data removed]",
      "text/plain": [
       "<Figure size 640x480 with 1 Axes>"
      ]
     },
     "metadata": {},
     "output_type": "display_data"
    }
   ],
   "source": [
    "plt.plot(df['No_of_Votes'],model.predict(n_cte),color=\"red\",label=\"Regressão linear\")\n",
    "plt.scatter(df['No_of_Votes'],df['IMDB_Rating'], color=\"blue\",label=\"Dados da tabela\")\n",
    "plt.xlabel('No_of_Votes')\n",
    "plt.ylabel('IMDB_Rating')\n",
    "plt.legend()\n",
    "plt.show()"
   ]
  },
  {
   "cell_type": "code",
   "execution_count": null,
   "id": "a5dcfd0d",
   "metadata": {},
   "outputs": [],
   "source": [
    "Há uma correlação positiva."
   ]
  },
  {
   "cell_type": "markdown",
   "id": "0669eec5",
   "metadata": {},
   "source": [
    "<h4>Conclusão</h4>\n",
    "<h4>2.a</h4>\n",
    "Um bom filme a ser indicado:\n",
    "Diretor: Irvin Kershner, Lana Wachowski, George Lucas, Roberto Benigni ou Frank Darabont\n",
    "Duração: 150 a 200min\n",
    "Ano de lançamento: 1950 a 2010\n",
    "Número de votos: preferência para os maiores\n",
    "Atores: Aaron Eckhart, Caroline Goodall, John Travolta ou Sean Bean\n",
    "    \n",
    "É importante ressaltar que a amostra de dados é muito pequena, os resultados mostrados estão sujeitos a flutuações decorrentes de pontos \"fora da curva\". O ideal seria uma amostra maior ou um tratamento de dados para lidar com esses pontos."
   ]
  },
  {
   "cell_type": "markdown",
   "id": "eefc0fe1",
   "metadata": {},
   "source": [
    "<h4>2.c</h4>\n",
    "\n",
    "Primeiramente deve-se tratar os dados limpando palavras não relevantes ou de ligação (as, the, in,etc) e analizando quais aparecem em cada gênero com alguma técnica de ML. "
   ]
  },
  {
   "cell_type": "markdown",
   "id": "f817d584",
   "metadata": {},
   "source": [
    "<h4>3</h4> \n",
    "A previsão da nota teria como parâmetros os que foram encontrados como relevante: Diretor, Nº votos, Atores; em menor relevância: Ano de lançamento e Duração.\n",
    "\n",
    "É um problema que seria resolvido com técnicas de regressão\n",
    "Por exemplo:\n",
    "https://scikit-learn.org/stable/modules/neural_networks_supervised.html\n",
    "Utilizando parte dos dados para verificação"
   ]
  }
 ],
 "metadata": {
  "kernelspec": {
   "display_name": "Python 3 (ipykernel)",
   "language": "python",
   "name": "python3"
  },
  "language_info": {
   "codemirror_mode": {
    "name": "ipython",
    "version": 3
   },
   "file_extension": ".py",
   "mimetype": "text/x-python",
   "name": "python",
   "nbconvert_exporter": "python",
   "pygments_lexer": "ipython3",
   "version": "3.11.4"
  }
 },
 "nbformat": 4,
 "nbformat_minor": 5
}
